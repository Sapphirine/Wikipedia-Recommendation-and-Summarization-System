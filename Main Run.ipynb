{
 "cells": [
  {
   "cell_type": "code",
   "execution_count": 1,
   "metadata": {
    "collapsed": true
   },
   "outputs": [],
   "source": [
    "import pandas as pd\n",
    "data = pd.read_csv(\"xaa.csv\",encoding='latin-1',header =None)\n",
    "data = data.iloc[:,0:2]\n",
    "data.columns = ['id','wiki']\n",
    "data['title'] = data['wiki']\n",
    "i=0\n",
    "while i < data.shape[0]:\n",
    "    line = data['wiki'][i]\n",
    "    title =  line.split('  ')\n",
    "    #print (title)\n",
    "    data['title'][i] = title[0]\n",
    "    data['wiki'][i] = title[1]\n",
    "    i+=1"
   ]
  },
  {
   "cell_type": "code",
   "execution_count": 6,
   "metadata": {},
   "outputs": [
    {
     "data": {
      "text/html": [
       "<div>\n",
       "<style scoped>\n",
       "    .dataframe tbody tr th:only-of-type {\n",
       "        vertical-align: middle;\n",
       "    }\n",
       "\n",
       "    .dataframe tbody tr th {\n",
       "        vertical-align: top;\n",
       "    }\n",
       "\n",
       "    .dataframe thead th {\n",
       "        text-align: right;\n",
       "    }\n",
       "</style>\n",
       "<table border=\"1\" class=\"dataframe\">\n",
       "  <thead>\n",
       "    <tr style=\"text-align: right;\">\n",
       "      <th></th>\n",
       "      <th>id</th>\n",
       "      <th>wiki</th>\n",
       "      <th>title</th>\n",
       "    </tr>\n",
       "  </thead>\n",
       "  <tbody>\n",
       "    <tr>\n",
       "      <th>0</th>\n",
       "      <td>wikipedia-23885690</td>\n",
       "      <td>The Research Design and Standards Organisation...</td>\n",
       "      <td>Research Design and Standards Organization</td>\n",
       "    </tr>\n",
       "    <tr>\n",
       "      <th>1</th>\n",
       "      <td>wikipedia-23885928</td>\n",
       "      <td>The Death of Bunny Munro is the second novel w...</td>\n",
       "      <td>The Death of Bunny Munro</td>\n",
       "    </tr>\n",
       "    <tr>\n",
       "      <th>2</th>\n",
       "      <td>wikipedia-23886057</td>\n",
       "      <td>Treatment for prostate cancer may involve acti...</td>\n",
       "      <td>Management of prostate cancer</td>\n",
       "    </tr>\n",
       "    <tr>\n",
       "      <th>3</th>\n",
       "      <td>wikipedia-23886425</td>\n",
       "      <td>Reintroduction of the cheetah in India involve...</td>\n",
       "      <td>Cheetah reintroduction in India</td>\n",
       "    </tr>\n",
       "    <tr>\n",
       "      <th>4</th>\n",
       "      <td>wikipedia-23886491</td>\n",
       "      <td>The Langtang National Park is the fourth natio...</td>\n",
       "      <td>Langtang National Park</td>\n",
       "    </tr>\n",
       "    <tr>\n",
       "      <th>5</th>\n",
       "      <td>wikipedia-23886546</td>\n",
       "      <td>Shivapuri Nagarjun National Park is the ninth ...</td>\n",
       "      <td>Shivapuri Nagarjun National Park</td>\n",
       "    </tr>\n",
       "    <tr>\n",
       "      <th>6</th>\n",
       "      <td>wikipedia-23886872</td>\n",
       "      <td>Robert H. \"Bob\" Benmosche (born May 29, 1944) ...</td>\n",
       "      <td>Bob Benmosche</td>\n",
       "    </tr>\n",
       "    <tr>\n",
       "      <th>7</th>\n",
       "      <td>wikipedia-23886916</td>\n",
       "      <td>Sandra GonzÃ¡lez CalderÃ³n (born June 26, 1970...</td>\n",
       "      <td>Lady Apache</td>\n",
       "    </tr>\n",
       "    <tr>\n",
       "      <th>8</th>\n",
       "      <td>wikipedia-23886952</td>\n",
       "      <td>Do You Want the Truth or Something Beautiful? ...</td>\n",
       "      <td>Do You Want the Truth or Something Beautiful?</td>\n",
       "    </tr>\n",
       "    <tr>\n",
       "      <th>9</th>\n",
       "      <td>wikipedia-23886984</td>\n",
       "      <td>The Philippine Fault System is an inter-relate...</td>\n",
       "      <td>Philippine Fault System</td>\n",
       "    </tr>\n",
       "  </tbody>\n",
       "</table>\n",
       "</div>"
      ],
      "text/plain": [
       "                   id                                               wiki  \\\n",
       "0  wikipedia-23885690  The Research Design and Standards Organisation...   \n",
       "1  wikipedia-23885928  The Death of Bunny Munro is the second novel w...   \n",
       "2  wikipedia-23886057  Treatment for prostate cancer may involve acti...   \n",
       "3  wikipedia-23886425  Reintroduction of the cheetah in India involve...   \n",
       "4  wikipedia-23886491  The Langtang National Park is the fourth natio...   \n",
       "5  wikipedia-23886546  Shivapuri Nagarjun National Park is the ninth ...   \n",
       "6  wikipedia-23886872  Robert H. \"Bob\" Benmosche (born May 29, 1944) ...   \n",
       "7  wikipedia-23886916  Sandra GonzÃ¡lez CalderÃ³n (born June 26, 1970...   \n",
       "8  wikipedia-23886952  Do You Want the Truth or Something Beautiful? ...   \n",
       "9  wikipedia-23886984  The Philippine Fault System is an inter-relate...   \n",
       "\n",
       "                                            title  \n",
       "0      Research Design and Standards Organization  \n",
       "1                        The Death of Bunny Munro  \n",
       "2                   Management of prostate cancer  \n",
       "3                 Cheetah reintroduction in India  \n",
       "4                          Langtang National Park  \n",
       "5                Shivapuri Nagarjun National Park  \n",
       "6                                   Bob Benmosche  \n",
       "7                                     Lady Apache  \n",
       "8   Do You Want the Truth or Something Beautiful?  \n",
       "9                         Philippine Fault System  "
      ]
     },
     "execution_count": 6,
     "metadata": {},
     "output_type": "execute_result"
    }
   ],
   "source": [
    "data.head(10)"
   ]
  },
  {
   "cell_type": "code",
   "execution_count": 9,
   "metadata": {},
   "outputs": [
    {
     "data": {
      "text/plain": [
       "'Louis Dembitz Brandeis (; November 13, 1856Â\\xa0â\\x80\\x93 October 5, 1941) was an American lawyer and Associate Justice on the Supreme Court of the United States from 1916 to 1939. He was born in Louisville, Kentucky, to Jewish immigrant parents from Bohemia, who raised him in a secular home. He enrolled at Harvard Law School, graduating at the age of twenty with the highest grade average in the law school\\'s history. Brandeis settled in Boston where he became a recognized lawyer through his work on progressive social causes. Starting in 1890, he helped develop the \"right to privacy\" concept by writing a \"Harvard Law Review\" article of that title, and was thereby credited by legal scholar Roscoe Pound as having accomplished \"nothing less than adding a chapter to our law\". He later published a book titled \"Other People\\'s Money And How the Bankers Use It\", suggesting ways of curbing the power of large banks and money trusts, which partly explains why he later fought against powerful corporations, monopolies, public corruption, and mass consumerism, all of which he felt were detrimental to American values and culture. He also became active in the Zionist movement, seeing it as a solution to antisemitism in Europe and Russia, while at the same time being a way to \"revive the Jewish spirit.\" When his familyâ\\x80\\x99s finances became secure, he began devoting most of his time to public causes and was later dubbed the â\\x80\\x9cPeopleâ\\x80\\x99s Lawyer.â\\x80\\x9d He insisted on serving on cases without pay so that he would be free to address the wider issues involved. The \"Economist\" magazine calls him \"A Robin Hood of the law.\" Among his notable early cases were actions fighting railroad monopolies; defending workplace and labor laws; helping create the Federal Reserve System; and presenting ideas for the new Federal Trade Commission (FTC). He achieved recognition by submitting a case brief, later called the \"Brandeis Brief,\" which relied on expert testimony from people in other professions to support his case, thereby setting a new precedent in evidence presentation. In 1916, President Woodrow Wilson nominated Brandeis to become a member of the Supreme Court. However, his nomination was bitterly contested, partly because, as Justice William O. Douglas wrote, \"Brandeis was a militant crusader for social justice whoever his opponent might be. He was dangerous not only because of his brilliance, his arithmetic, his courage. He was dangerous because he was incorruptible. . . the fears of the Establishment were greater because Brandeis was the first Jew to be named to the Court.\" He was eventually confirmed by the Senate by a vote of 47 to 22 on June 1, 1916,â\\x80\\x9421 Republican Senators and one Democratic Senator (Francis G. Newlands of Nevada) voted against his nominationâ\\x80\\x94and became one of the most famous and influential figures ever to serve on the high court. His opinions were, according to legal scholars, some of the \"greatest defenses\" of freedom of speech and the right to privacy ever written by a member of the Supreme Court. Early life. Family roots. Louis Dembitz Brandeis was born on November 13, 1856, in Louisville, Kentucky, the youngest of four children. His parents, Adolph Brandeis and Frederika Dembitz, both of whom were Jewish, emigrated to the United States from their childhood homes in Prague, Bohemia (then part of the Austrian Empire). They emigrated as part of their extended families for both economic and political reasons. The Revolutions of 1848 had produced a series of political upheavals and the families, though \"liberal in their political views and sympathetic to the rebel cause,\" were \"shocked by the anti-Semitic riots that erupted in Prague while the city was in the hands of the Czech rebels.\" In addition, the Habsburg Empire had imposed business taxes on Jews. Family elders sent Adolph Brandeis to America to observe and prepare for his family\\'s possible emigration. He spent a few months in the Midwest and was impressed by the nation\\'s institutions and by the tolerance among the people he met. He wrote home to his wife, \"America\\'s progress is the triumph of the rights of man.\" The Brandeis family chose to settle in Louisville partly because it was a prosperous river port. His earliest childhood was shaped by the American Civil War, which forced the family to seek safety temporarily in Indiana. The Brandeis family held abolitionist beliefs that angered their Louisville neighbors. Louis\\'s father developed a grain-merchandising business. Worries about the U.S. economy took the family to Europe in 1872, but they returned in 1875. Family life. The Brandeises were considered a \"cultured family,\" trying not to discuss business or money during dinner, preferring subjects related to history, politics, and culture, or their daily experiences. Having been raised partly on German culture, Louis read and appreciated the writings of Goethe and Schiller, and his favorite composers were Beethoven and Schumann. In their religious beliefs, although his family was Jewish, only his extended family practiced a more conservative form of Judaism, while his parents practiced a more relaxed form. They celebrated the main Christian holidays along with most of their community, even treating Christmas as a secular holiday. His parents raised their children to be \"high-minded idealists,\" rather than depending solely on religion for their purpose and inspiration. In later years, his mother, Frederika, wrote of this period: According to biographer Melvin Urofsky, Brandeis was influenced greatly by his uncle Lewis Naphtali Dembitz. Unlike other members of the extended Brandeis family, Dembitz regularly practiced Judaism and was actively involved in Zionist activities. Brandeis later changed his middle name from David to Dembitz in honor of his uncle and, through his uncle\\'s model of social activism, became an active member of the Zionist movement later in his life. Childhood education. Louis grew up in \"a family enamored with books, music, and politics, perhaps best typified by his revered uncle, Lewis Dembitz, a refined, educated man who served as a delegate to the Republican convention in 1860 that nominated Abraham Lincoln for president.\" In school, Louis was a serious student in languages and other basic courses and usually achieved top scores. Brandeis graduated from the Louisville Male High School at age 14 with the highest honors. When he was sixteen, the Louisville University of the Public Schools awarded him a gold medal for \"excellence in all his studies.\" Anticipating an economic downturn, Adolph Brandeis relocated the family to Europe in 1872. After a period spent traveling, Louis spent two years studying at the Annen-Realschule in Dresden, Saxony, where he excelled. He later credited his capacity for critical thinking and his desire to study law in the United States to his time there. Law school. Returning to the U.S. in 1875, Brandeis entered Harvard Law School at the age of eighteen. It was his admiration for wide learning and debating skills of his uncle, Lewis Dembitz, that inspired him to study law. Despite the fact that he entered the school without any financial help from his family, he became \"an extraordinary student\". During his time at Harvard, the teaching of law was undergoing a change of method from the traditional, memorization-reliant, \"black letter\" case law, to a more flexible and interactive Socratic method, using prior cases as the basis for discussion to instruct students in legal reasoning. Brandeis easily adapted to the new methods, soon became active in class discussions, and joined the Pow-Wow club, similar to today\\'s moot courts in law school, which gave him experience in the role of a judge. In a letter while at Harvard, he wrote of his \"desperate longing for more law\" and of the \"almost ridiculous pleasure which the discovery or invention of a legal theory gives me.\" He referred to the law as his \"mistress,\" holding a grip on him that he could not break. Unfortunately, his eyesight began failing as a result of the large volume of required reading and the poor visibility under gaslights. The school doctors suggested he give up school entirely. However, he found another alternative: paying fellow law students to read the textbooks aloud, while he tried to memorize the legal principles. Despite the difficulties, his academic work and memorization talents were so impressive that he graduated as valedictorian and achieved the highest grade point average in the history of the school, a record that stood for eight decades. Brandeis wrote of that period: \"Those years were among the happiest of my life. I worked! For me, the world\\'s center was Cambridge.\" Early career in law. After graduation, he stayed on at Harvard for another year, where he continued to study law on his own while also earning a small income by tutoring other law students. In 1878, he was admitted to the Missouri bar and accepted a job with a law firm in St. Louis, where he filed his first brief and published his first law review article. However, after seven months, he tired of the minor casework and accepted an offer by his Harvard classmate, Samuel Warren, to set up a law firm in Boston. They were close friends at Harvard where Warren ranked second in the class to Brandeis\\'s first. Warren was also the son of a wealthy Boston family and their new firm was able to benefit from his family\\'s connections. Soon after returning to Boston, while waiting for the law firm to gain clients, he was appointed law clerk to Horace Gray, the chief justice of the Massachusetts Supreme Court, where he worked for two years. He was admitted to the Massachusetts bar without taking an examination, which he later wrote to his brother, was \"contrary to all principle and precedent.\" According to Klebanow and Jonas, \"the speed with which he was admitted probably was due to his high standing with his former professors at Harvard Law as well as to the influence of Chief Justice Gray.\" First law firm: Warren and Brandeis. The new firm was eventually successful, having gained new clients from within the state and in several neighboring states as well. Their \"former professors referred a number of clients to the two fledgling lawyers,\" garnering Brandeis more financial security and the freedom to eventually take an active role in progressive causes. As partner in his law firm, he worked as a consultant and advisor to businesses, but was also as a litigator \"who reveled in the challenge of the courtroom.\" In a letter to his brother, he writes, \"There is a certain joy in the exhaustion and backache of a long trial which shorter skirmishes cannot afford.\" On November 6, 1889, he pleaded for the first time before the U.S. Supreme Court as the Eastern counsel of the Wisconsin Central Railroad and won. Not long after that, Chief Justice Melville Fuller recommended him to a friend as the best attorney he knew of in the Eastern U.S. Before taking on business clients, he insisted they agree to two major conditions: \"first, that he would never have to deal with intermediaries, but only with the person in charge... second, that he must be permitted to offer advice on any and all aspects of the firm\\'s affairs\" that seemed relevant. He saw himself as a \"counselor at law,\" rather than simply a strategist in lawsuits. He preferred helping clients avoid such events as lawsuits, strikes, or other crises, by giving early advice. Brandeis explained: \"I would rather have clients than be somebody\\'s lawyer.\" In a note found among his papers, he reminded himself to \"advise client on what he should have, not what he wants.\" Brandeis describes how he saw himself as an advisor: Brandeis was \"unusual among lawyers\" because he consistently turned away cases he considered bad. If he believed a client to be in the wrong, \"either he would persuade his clients to make amends ... or he would withdraw from the case.\" Once, uncertain as to the rightness of his client\\'s case, he wrote the client, \"The position that I should take if I remained in the case would be to give everybody a square deal.\" Brandeis\\'s and Warren\\'s firm has been in continuous practice in Boston since its founding in 1879; today the firm is known as Nutter McClennen & Fish. Privacy law. Brandeis defined modern notions of the individual right to privacy in a path-breaking article he published with his partner, Warren, in the \"Harvard Law Review\" of Dec. 15, 1890, on \"The Right to Privacy.\" Stimulated by anger at offensive publicity concerning the social activities of Warren\\'s family, it adumbrated a new legal concept that has had lasting influence. Building on diverse analogies in the law of defamation, of literary property, and of eavesdropping, Brandeis argued that the central, if unarticulated, interest protected in these fields was an interest in personal integrity, \"the right to be let alone,\" that ought to be secured against invasion except for some compelling reason of public welfare. Brandeis saw emotions as a positive expression of human nature, and so desired privacy protection for them as protection against repression of the human spirit. Between 1888 and 1890, Brandeis and his law partner, Samuel Warren, wrote three scholarly articles published in the \"Harvard Law Review\". The third, \"The Right to Privacy,\" was the most important, with legal scholar Roscoe Pound saying it accomplished \"nothing less than adding a chapter to our law.\" Brandeis and Warren discussed \"snapshot photography,\" a recent innovation in journalism, that allowed newspapers to publish photographs and statements of individuals without obtaining their consent. They argued that private individuals were being continually injured and that the practice weakened the \"moral standards of society as a whole.\" They wrote: Legal historian Wayne McIntosh wrote that \"the privacy tort of Brandeis and Warren set the nation on a legal trajectory of such profound magnitude that it finally transcended its humble beginnings.\" State courts and legislatures quickly drew on Brandeis and Warren\\'s work. In 1905 the Georgia Supreme Court recognized a right to privacy in a case involving photographs. By 1909, California, New York, Pennsylvania, Virginia, and Utah had passed statutes establishing the right. In 1939 the American Law Institute\\'s \"Restatement of Torts\" also recognized a right to privacy at common law. Years later, after becoming a justice on the Supreme Court, Brandeis discussed the right to privacy in his famous dissent in \"Olmstead v. United States\". Personal life and marriage. Brandeis became engaged to Alice Goldmark, of New York, in 1890. He was then thirty-four years of age and had previously found little time for courtship. Alice was the daughter of Joseph Goldmark, a physician, the brother of the composer Karl Goldmark, who had emigrated to America from Austria-Hungary after the collapse of the Revolution of 1848. They were married on March 23, 1891, at the home of her parents in New York City in a civil ceremony. The newlywed couple moved into a modest home in Boston\\'s Beacon Hill district and had two daughters, Susan, born in 1893 and Elizabeth, 1896. Alice supported her husband\\'s resolve to devote most of his time to public causes. The Brandeis family \"lived well but without extravagance.\" With the continuing success of his law practice, they later purchased a vacation cottage in Dedham where they would spend many of their weekends and summer vacations. Unexpectedly, his wife\\'s health soon became frail, so in addition to his professional duties he found it necessary to manage the family\\'s domestic affairs. Brandeis as Progressive. Brandeis was a leader of the Progressive movement, using the law as the instrument for social change. His social conscience made Brandeis a leader of the Progressive Movement. From 1897 to 1916, he was in the thick of multiple reform crusades. He fought in Boston to secure honest traction franchises and in 1907 launched a six-year fight to prevent banker J. P. Morgan from monopolizing New England\\'s railroads. After an expose of insurance fraud in 1906, he devised the Massachusetts plan to protect small wage-earners through savings bank life insurance. He supported the conservation movement and in 1910 emerged as the chief figure in the Pinchot-Ballinger investigation. Career as a public advocate. In 1889, Brandeis entered a new phase in his legal career when his partner, Samuel Warren, withdrew from their partnership to take over his recently deceased father\\'s paper company. He then took on cases with the help of colleagues, two of whom became partners in his new firm, Brandeis, Dunbar, and Nutter, in 1897. He won his first important victory in 1891, when he persuaded the Massachusetts legislature \"to make the liquor laws less restrictive and...in his view, more reasonable and enforceable.\" In arguing his case, he managed \"to devise a viable middle course.\" By \"moderating\" the existing regulations, he told the lawmakers that \"they would, at a single stroke, deprive the liquor dealers of their incentive to violate the laws and to corrupt through bribery the politics of Massachusetts.\" The legislature was won over by his arguments and changed the regulations. Brandeis wrote that \"the law has everywhere a tendency to lag behind the facts of life.\" Therefore he planned, according to historian Steven Piott, to \"chip away at the assumption that the principles of law should be unchanging\" and \"break the traditional hold on legal thinking and work to harmonize the law with the needs of the community.\" Part of his reasoning and philosophy for acting as a public advocate he later explained in his 1911 book, \"The Opportunity in the Law\": In one of his first such cases, in 1894, he represented Alice N. Lincoln, a Boston philanthropist and noted crusader for the poor. He appeared at public hearings to promote investigations into conditions in the public poor-houses. Lincoln, who had visited these poor-houses for years, \"charged that the inmates were dwelling in misery and that the temporarily unemployed were being thrown in together callously with the mentally ill and hardened criminals.\" Brandeis spent nine months and held fifty-seven public hearings, at one such hearing proclaiming, \"Men are not bad. Men are degraded largely by circumstances...It is the duty of every man...to help them up and let them feel that there is some hope for them in life.\" As a result of the hearings, the board of aldermen decreed that the administration of the poor law would be completely reorganized. In 1896, he was asked to lead the fight against a Boston transit company which was trying to gain concessions from the state legislature that would have given it a \"stranglehold on the city\\'s emerging subway system.\" Brandeis prevailed and the legislature enacted his bill. However, the transit franchise struggle revealed that many of Boston\\'s politicians had placed \"friends\" and \"ward heelers\" on the payrolls of the private transit companies. Lief writes that \"One alderman alone had found work in this way for 200 of his followers. . . . in Boston, as in other American cities, such abuses were part of a larger pattern of corruption in which graft and bribery were commonplace. Convicted felons would return from prison terms to resume their political careers.\". \"Always the moralist,\" writes biographer Thomas Mason, \"Brandeis declared that \\'misgovernment in Boston had reached the danger point.\\'\" He announced that from then on he would keep a ledger of \"good and bad deeds,\" making a record of Boston\\'s politicians accessible to all the city\\'s voters. In one of his public addresses in 1903, he stated his goal: In 1906, Brandeis won a modest victory when the state legislature enacted a measure he drafted designed to make it a punishable crime for a public official to solicit a job from a regulated public utility or for an officer of such a company to offer such favors. He summed up his anti-corruption philosophy in his closing argument for the \"Glavis-Ballinger\" case of 1910, describing his vision of the public servant: Against monopolies. During the 1890s Brandeis began to question his views on the \"industrial order in America,\" write Klebanow and Jonas. Becoming more aware that there was a growing number of \"giant firms\" which were capable of dominating whole industries, he began to lose faith that the economic system was able to regulate them for the public\\'s welfare. As a result, he began denouncing \"cut-throat competition\" and fretted over the dangers of monopoly. \"He became more aware of the plight of workers and more sympathetic to the labor movement.\" His earlier legal battles had convinced him, according to Piott, \"that concentrated economic power could have a negative effect on a free society.\" However, he also recognized the limits of trying to split up some monopolies. In an address in 1912, he said: Against big corporations. As Klebanow and Jonas make clear, Brandeis was becoming increasingly conscious of and hostile to powerful corporations and the trend toward bigness in American industry and finance. He argued bigness conflicted with efficiency and added a new dimension to the Efficiency Movement of the Progressive Era. As early as 1895 he had pointed out the harm that giant corporations could do to competitors, customers, and their own workers. The growth of industrialization was creating mammoth companies which he felt threatened the well-being of millions of Americans. Although the Sherman Anti-Trust Act was enacted in 1890, it was not until the 20th century that there was any major effort to apply it. In fact, by 1910 Brandeis noticed that even America\\'s leadership, including President Theodore Roosevelt, were beginning to question the value of antitrust policies. Business experts were contending that \"there was nothing that could prevent the continuing concentration of industry and therefore, like it or not, big business was here to stay.\" As a result, leaders like Roosevelt saw the need to \"regulate,\" but not limit, the growth and operation of corporate monopolies, whereas Brandeis felt the trend to bigness should be slowed, if not reversed. His experience convinced him that monopolies and trusts were \"neither inevitable nor desirable.\" In support of Brandeis\\'s position were presidential candidate William Jennings Bryan and Robert M. LaFollette, senator from Wisconsin. Brandeis furthermore denied that large trusts were more efficient than the smaller firms which were generally driven out of business. He argued the opposite was often true, that monopolistic enterprises became \"less innovative\" because, he wrote, their \"secure positions freed them from the necessity which has always been the mother of invention.\" To him there was no way an executive could learn all the details of running a huge and unwieldy company. \"There is a limit to what one man can do well,\" he wrote. Brandeis was naturally aware of the economies of scale and initially lower prices offered by growing companies, but he emphasized the future by claiming that once a trust drove out its competition, \"the quality of its products tended to decline while the prices charged for them tended to go up.\" Eventually, he felt, the trusts would be like \"clumsy dinosaurs, which, if they ever had to face real competition, would collapse of their own weight.\" In an address to the Economic Club of New York in 1912, he said: Against mass consumerism. Among Brandeis\\'s key themes was the conflict he saw between 19th-century values with its culture of the small producer, against an emerging 20th-century age of big business and its consumerist mass society. McCraw notes that Brandeis\\'s \"hostility to the new consumerism found vivid expression in his own behavior. Though himself a millionaire, he disliked most other wealthy persons, being profoundly disturbed by their ostentatious consumption.\" He never shopped for his own clothes, preferring to reorder the same suits that served him well, nor did he own a yacht like his friends, but was satisfied with his canoe. As a result, he developed a hatred of advertising and a loss of respect for the average \"manipulated\" consumer. He recognized that a dependence by newspapers and magazines on advertising for their revenues caused them to be \"less free\" than they should be. And national advertisers further undermined the relationship between consumers and local businesses. He went so far, writes McCraw, as to \"urge journalists to \\'teach the public\\' such lessons as \\'to look with suspicion upon every advertised article.\\'\" But in general, Brandeis felt that consumers were becoming \"servile, self-indulgent, indolent, ignorant.\" The consumer, he said, \"had abrogated his role as a countervailing power against bigness... He lies not only supine, but paralyzed, and deserves to suffer like others who take their lickings \\'lying down.\\'\" He was repelled by the flaunting materialism overtaking America, often denouncing conspicuous consumption. But by doing so, notes McCraw, \"he drifted imperceptibly into an attack on consumer preference, a principle that lies at the very core of a market economy.\" Becoming the \"People\\'s Lawyer\". Klebanow and Jonas write that Brandeis had begun to evolve into \"the people\\'s lawyer.\" He was no longer accepting payment for \"public interest\" cases even when they required pleadings before judges, legislative committees, or administrative agencies. He also became involved in developing public opinion through writing magazine articles, making speeches, or helping form interest groups. He \"insisted on serving without pay so that he would be free to address the wider issues involved rather than confine himself merely to the case at hand.\" In a 1905 address to law students and others at Harvard, he explained his philosophy: In 1910, a \"New York Times\" article tried to explain how someone of the stature of Brandeis would suddenly decide to become a public advocate: Developing new life insurance system. In March 1905, he became counsel to a New England policyholder\\'s committee concerned that their scandal-ridden insurance company would file bankruptcy and the policyholders would lose their investments and insurance protection. He insisted on serving without pay in order to give him the freedom to address the wider issues involved. He then spent the next year studying the workings of the life insurance industry, often writing articles and giving speeches about his findings, at one point describing their practices as \"legalized robbery.\" By 1906 he concluded that life insurance was \"simply a bad bargain for the vast majority of policyholders\" due mostly to the inefficiency of the industry. He also learned that the policies of \"poorly paid breadwinners\" were canceled when they missed a payment, due to little-understood clauses within the policy. As a result, he discovered that most policies lapsed, and only one out of eight original policyholders actually received benefits, leading to large insurance company profits. He succeeded in \"creating a groundswell\" in Massachusetts with his personal campaign of educating the public, and created a new \"savings bank life insurance\" system with the help of progressive businessmen, social reformers, and trade unionists. By March 1907, the Savings Bank Insurance League had 70,000 members and his \"face and name were appearing regularly in newspapers ...\" He persuaded the former governor, a Republican, to become its president, and the current governor stated in his annual message his wish for the legislature to study plans for \"cheaper insurance that may rob death of half of its terrors for the worthy poor.\" Brandeis drafted his own bill, and three months later the \"savings bank insurance measure was signed into law.\" He always said this bill was one of \"his greatest achievements\" and, like a proud parent, he \"kept a watchful eye on it.\"'"
      ]
     },
     "execution_count": 9,
     "metadata": {},
     "output_type": "execute_result"
    }
   ],
   "source": [
    "data.wiki[40]"
   ]
  },
  {
   "cell_type": "code",
   "execution_count": 2,
   "metadata": {
    "collapsed": true
   },
   "outputs": [],
   "source": [
    "import CorrelationRate as CR\n",
    "import text as txt\n",
    "import Summarize as Sum\n",
    "import pandas as pd\n",
    "\n",
    "lda_path = \"/Users/LongNguyen/Desktop/Hoa_stuff/1School/BDA/output_K50/lda\"\n",
    "pip_path = \"/Users/LongNguyen/Desktop/Hoa_stuff/1School/BDA/output_K50/df_pip\"\n",
    "data_path = \"/Users/LongNguyen/Desktop/Hoa_stuff/1School/BDA/output_K50/result.json\"\n",
    "\n",
    "text = txt.sport\n",
    "\n",
    "def Submit(text):\n",
    "    \n",
    "    print(\"Your Article Summary: \")\n",
    "    \n",
    "    new_a = Sum.text_format(text)\n",
    "    new_a[:] = [item for item in new_a if len(item) > 2]\n",
    "\n",
    "    print(\"1. \"+Sum.split_into_sentences(text)[0])\n",
    "    for idx, sentence in enumerate(Sum.summarizer(new_a[1:], 4, stopwords=Sum.stop_words)):\n",
    "        print(\"%s. %s\" % ((idx + 2), ' '.join(sentence)))\n",
    "    \n",
    "    print(\"- - - - - - - - - - - - - - - - - - - - - - - - - - - - - - - - - - - - - - - \\n\")\n",
    "    \n",
    "    print(\"Getting your Recommendation: \")\n",
    "    df, text = CR.recomm(text, data_path, pip_path, lda_path, recomm_num = 5)\n",
    "\n",
    "    for i in range(len(text)):\n",
    "\n",
    "        print(\"Suggestion -\", i+1, \" : \", text[i].split(\"  \")[0], \"\\n\")\n",
    "\n",
    "        new_a = Sum.text_format(text[i])\n",
    "\n",
    "        new_a[:] = [item for item in new_a if len(item) > 2]\n",
    "\n",
    "        print(\"Article Summary: \")\n",
    "        print(\"1. \"+Sum.split_into_sentences(text[i])[0])\n",
    "        for idx, sentence in enumerate(Sum.summarizer(new_a[1:], 4, stopwords=Sum.stop_words)):\n",
    "\n",
    "            print(\"%s. %s\" % ((idx + 2), ' '.join(sentence)))\n",
    "\n",
    "        print(\"- - - - - - - - - - - - - - - - - - - - - - - - - - - - - - - - - - - - - - - \\n\")\n",
    "\n",
    "\n",
    "# Pulling articles"
   ]
  },
  {
   "cell_type": "code",
   "execution_count": 10,
   "metadata": {
    "scrolled": true
   },
   "outputs": [
    {
     "data": {
      "text/plain": [
       "'Return-oriented programming (ROP) is a computer security exploit technique that allows an attacker to execute code in the presence of security defenses such as non-executable memory and code signing. An attacker gains control of the call stack to hijack program control flow and then executes carefully chosen machine instruction sequences, called \"gadgets\". Each gadget typically ends in a return instruction and is located in a subroutine within the existing program and/or shared library code. Chained together, these gadgets allow an attacker to perform arbitrary operations on a machine employing defenses that thwart simpler attacks. Background. Stack smashing attacks. Return-oriented programming is an advanced version of a stack smashing attack. Generally, these types of attacks arise when an adversary manipulates the call stack by taking advantage of a bug in the program, often a buffer overrun. In a buffer overrun, a function that does not perform proper bounds checking before storing user-provided data into memory will accept more input data than it can store properly. If the data is being written onto the stack, the excess data may overflow the space allocated to the function\\'s variables (e.g., \"locals\" in the stack diagram to the right) and overwrite the return address. This address will later be used by the function to redirect control flow back to the caller. If it has been overwritten, control flow will be diverted to the location specified by the new return address. In a standard buffer overrun attack, the attacker would simply write attack code (the \"payload\") onto the stack and then overwrite the return address with the location of these newly written instructions. Until the late 1990s, major operating systems did not offer any protection against these attacks; Microsoft Windows provided no buffer-overrun protections until 2004. Eventually, operating systems began to combat the exploitation of buffer overflow bugs by marking the memory where data is written as non-executable, a technique known as data execution prevention. With data execution prevention enabled, the machine would refuse to execute any code located in user-writable areas of memory, preventing the attacker from placing payload on the stack and jumping to it via a return address overwrite. Hardware support for data execution prevention later became available to strengthen this protection. Return-into-library technique. The widespread implementation of data execution prevention made traditional buffer overflow vulnerabilities difficult or impossible to exploit in the manner described above. Instead, an attacker was restricted to code already in memory marked executable, such as the program code itself and any linked shared libraries. Since shared libraries, such as libc, often contain subroutines for performing system calls and other functionality potentially useful to an attacker, they are the most likely candidates for finding code to assemble an attack. In a return-into-library attack, an attacker hijacks program control flow by exploiting a buffer overrun vulnerability, exactly as discussed above. Instead of attempting to write an attack payload onto the stack, the attacker instead chooses an available library function and overwrites the return address with its entry location. Further stack locations are then overwritten, obeying applicable calling conventions, to carefully pass the proper parameters to the function so it performs functionality useful to the attacker. This technique was first presented by Solar Designer in 1997, and was later extended to unlimited chaining of function calls. Borrowed code chunks. The rise of 64-bit hardware brought with it a change to the subroutine calling convention that required that the first arguments to a function be passed in registers instead of on the stack. This meant that an attacker could no longer set up a library function call with desired arguments just by manipulating the call stack via a buffer overrun exploit. Shared library developers also began to remove or restrict library functions that performed functions particularly useful to an attacker, such as system call wrappers. As a result, return-into-library attacks became much more difficult to successfully mount. The next evolution came in the form of an attack that used chunks of library functions, instead of entire functions themselves, to exploit buffer overrun vulnerabilities on machines with defenses against simpler attacks. This technique looks for functions that contain instruction sequences that pop values from the stack into registers. Careful selection of these code sequences allows an attacker to put suitable values into the proper registers to perform a function call under the new calling convention. The rest of the attack proceeds as a return-into-library attack. Return-oriented programming attacks. Return-oriented programming builds on the borrowed code chunks approach and extends it to provide Turing complete functionality to the attacker, including loops and conditional branches. Put another way, return-oriented programming provides a fully functional \"language\" that an attacker can use to make a compromised machine perform any operation desired. Hovav Shacham published the technique in 2007 and demonstrated how all the important programming constructs can be simulated using return-oriented programming against a target application linked with the C standard library and containing an exploitable buffer overrun vulnerability. A return-oriented programming attack is superior to the other attack types discussed both in expressive power and in resistance to defensive measures. None of the counter-exploitation techniques mentioned above, including removing potentially dangerous functions from shared libraries altogether, are effective against a return-oriented programming attack. x86 Return-oriented programming. Although return-oriented programming attacks can be performed on a variety of architectures, Shacham\\'s paper and a majority of follow-up work focuses on the Intel x86 architecture. The x86 architecture is a variable-length CISC instruction set. Return-oriented programming on the x86 takes advantage of the fact that the instruction set is very \"dense\", that is, any random sequence of bytes is likely to be interpretable as some valid set of x86 instructions. It is therefore possible to search for an opcode that alters control flow, most notably the return instruction (0xC3) and then look backwards in the binary for preceding bytes that form possibly useful instructions. These sets of instruction \"gadgets\" can then be chained by overwriting the return address, via a buffer overrun exploit, with the address of the first instruction of the first gadget. The first address of subsequent gadgets is then written successively onto the stack. At the conclusion of the first gadget, a return instruction will be executed, which will pop the address of the next gadget off the stack and jump to it. At the conclusion of that gadget, the chain continues with the third, and so on. By chaining the small instruction sequences, an attacker is able to produce arbitrary program behavior from pre-existing library code. Shacham asserts that given any sufficiently large quantity of code (including, but not limited to, the C standard library), sufficient gadgets will exist for Turing-complete functionality. An automated tool has been developed to help automate the process of locating gadgets and constructing an attack against a binary. This tool, known as ROPgadget, searches through a binary looking for potentially useful gadgets, and attempts to assemble them into an attack payload that spawns a shell to accept arbitrary commands from the attacker.'"
      ]
     },
     "execution_count": 10,
     "metadata": {},
     "output_type": "execute_result"
    }
   ],
   "source": [
    "#26,98,704\n",
    "text = data.wiki[26]\n",
    "text"
   ]
  },
  {
   "cell_type": "code",
   "execution_count": 11,
   "metadata": {},
   "outputs": [
    {
     "name": "stdout",
     "output_type": "stream",
     "text": [
      "Your Article Summary: \n",
      "1. Return-oriented programming (ROP) is a computer security exploit technique that allows an attacker to execute code in the presence of security defenses such as non-executable memory and code signing.\n",
      "2. Until the late 1990s, major operating systems did not offer any protection against these attacks; Microsoft Windows provided no buffer-overrun protections until 2004.\n",
      "3. As a result, return-into-library attacks became much more difficult to successfully mount.\n",
      "4. At the conclusion of that gadget, the chain continues with the third, and so on.\n",
      "5. An automated tool has been developed to help automate the process of locating gadgets and constructing an attack against a binary.\n",
      "- - - - - - - - - - - - - - - - - - - - - - - - - - - - - - - - - - - - - - - \n",
      "\n",
      "Getting your Recommendation: \n",
      "Suggestion - 1  :  \" Coprocessor \n",
      "\n",
      "Article Summary: \n",
      "1. \" Coprocessor  A coprocessor is a computer processor used to supplement the functions of the primary processor (the CPU).\n",
      "2. By dedicating relatively simple sub-processors to handle time-consuming I/O formatting and processing, overall system performance was improved.\n",
      "3. Separately packaged mathematics co-processors are now uncommon in desktop computers.\n",
      "4. Certain models of sound cards have been fitted with dedicated processors providing digital multichannel mixing and real-time DSP effects as early as 1990 to 1994 (the Gravis Ultrasound and Sound Blaster AWE32 being typical examples) while the Sound Blaster Audigy and the Sound Blaster X-Fi are more recent examples.\n",
      "5. In 2008 Khronos Group released the OpenCL with the aim to support general purpose CPUs and both ATI/AMD and Nvidia GPUs with a single common language.\n",
      "- - - - - - - - - - - - - - - - - - - - - - - - - - - - - - - - - - - - - - - \n",
      "\n",
      "Suggestion - 2  :  \" Rogers' Rangers \n",
      "\n",
      "Article Summary: \n",
      "1. \" Rogers' Rangers  Rogers' Rangers was initially a provincial company from the colony of New Hampshire, attached to the British Army during the Seven Years War (called the French and Indian War in the United States).\n",
      "2. This was based on their finding some of his belongings including his regimental coat containing his military commission but he escaped.\n",
      "3. This episode also gave rise to the legend about Rogers’ sliding down the side of a mountain to the frozen surface of Lake George.\n",
      "4. While there is no proof of this event the rockface became known as \"\"Rogers' Slide\"\" or \"\"Rogers Rock\"\".\n",
      "5. more than a hundred.\n",
      "- - - - - - - - - - - - - - - - - - - - - - - - - - - - - - - - - - - - - - - \n",
      "\n",
      "Suggestion - 3  :  \" Sulfate \n",
      "\n",
      "Article Summary: \n",
      "1. \" Sulfate  In inorganic chemistry, a sulfate (IUPAC-recommended spelling; also sulphate in British English) is a salt of sulfuric acid.\n",
      "2. An example of a salt containing the HSO4− group is sodium bisulfate, NaHSO4.\n",
      "3. 06 daltons (96.\n",
      "4. The symmetry is very similar to that of methane, CH4.\n",
      "5. 45) and a low 3d occupancy.\n",
      "- - - - - - - - - - - - - - - - - - - - - - - - - - - - - - - - - - - - - - - \n",
      "\n",
      "Suggestion - 4  :  \" EnergySolutions Arena \n",
      "\n",
      "Article Summary: \n",
      "1. \" EnergySolutions Arena  EnergySolutions Arena (originally Delta Center) is an indoor arena, in Salt Lake City, Utah, United States, owned by Jazz Basketball Investors, Inc., the estate of Larry H. Miller.\n",
      "2. The Grizzlies won 3–2 in overtime, completing a four-game sweep of the Orlando Solar Bears and earning the IHL championship in their first season in Utah.\n",
      "3. The movie \"\"\"\" was partially filmed in the arena.\n",
      "4. The temporary logos were replaced with official logos on the court sometime in December.\n",
      "5. Other suggestions included the Glow Dome Radium Stadium the Isotope ChernoBowl JazzMat (short for Jazzardous Materials) the Big Bang the Tox Box the Power House the Hot Spot Plutonium Palace the Fallout Shelter the Melta Center and Energy Pollutions Arena.\n",
      "- - - - - - - - - - - - - - - - - - - - - - - - - - - - - - - - - - - - - - - \n",
      "\n",
      "Suggestion - 5  :  \" NEBOSH \n",
      "\n",
      "Article Summary: \n",
      "1. \" NEBOSH  NEBOSH (National Examination Board in Occupational Safety and Health) is a UK-based independent examination board delivering vocational qualifications in health, safety & environmental practice and management.\n",
      "2. It was founded in 1979 and has charitable status.\n",
      "3. Candidates scoring over 75% achieved a distinction.\n",
      "4. A presentation to mark the occasion was held at WMFS headquarters.\n",
      "5. Accreditation is required for each separate qualification.\n",
      "- - - - - - - - - - - - - - - - - - - - - - - - - - - - - - - - - - - - - - - \n",
      "\n"
     ]
    }
   ],
   "source": [
    "Submit(text)"
   ]
  },
  {
   "cell_type": "code",
   "execution_count": null,
   "metadata": {
    "collapsed": true
   },
   "outputs": [],
   "source": []
  }
 ],
 "metadata": {
  "kernelspec": {
   "display_name": "Python 3",
   "language": "python",
   "name": "python3"
  },
  "language_info": {
   "codemirror_mode": {
    "name": "ipython",
    "version": 3
   },
   "file_extension": ".py",
   "mimetype": "text/x-python",
   "name": "python",
   "nbconvert_exporter": "python",
   "pygments_lexer": "ipython3",
   "version": "3.6.3"
  }
 },
 "nbformat": 4,
 "nbformat_minor": 2
}
